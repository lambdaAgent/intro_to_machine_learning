{
 "cells": [
  {
   "cell_type": "code",
   "execution_count": null,
   "metadata": {
    "collapsed": false
   },
   "outputs": [],
   "source": [
    "import pickle\n",
    "import numpy\n",
    "numpy.random.seed(42)\n",
    "\n",
    "\n",
    "### the words (features) and authors (labels), already largely processed\n",
    "words_file = \"./word_data.pkl\" ### like the file you made in the last mini-project \n",
    "authors_file = \"./email_authors.pkl\"  ### this too\n",
    "word_data = pickle.load( open(words_file, \"r\"))\n",
    "authors = pickle.load( open(authors_file, \"r\") )\n",
    "\n",
    "\n",
    "\n",
    "### test_size is the percentage of events assigned to the test set (remainder go into training)\n",
    "from sklearn import cross_validation\n",
    "features_train, features_test, labels_train, labels_test = cross_validation.train_test_split(word_data, authors, test_size=0.1, random_state=42)\n",
    "\n",
    "\n",
    "from sklearn.feature_extraction.text import TfidfVectorizer\n",
    "vectorizer = TfidfVectorizer(sublinear_tf=True, max_df=0.5,\n",
    "                             stop_words='english')\n",
    "features_train = vectorizer.fit_transform(features_train).toarray()\n",
    "features_test  = vectorizer.transform(features_test).toarray()\n",
    "\n",
    "\n",
    "### a classic way to overfit is to use a small number\n",
    "### of data points and a large number of features\n",
    "### train on only 150 events to put ourselves in this regime\n",
    "\n",
    "\n",
    "\n",
    "# features_train, features_test, labels_train, labels_test = cross_validation.train_test_split(word_data, authors, test_size=0.1, random_state=42)\n",
    "\n",
    "### your code goes here\n",
    "from sklearn.tree import DecisionTreeClassifier\n",
    "\n",
    "features_test = features_train[150:]\n",
    "labels_test = labels_train[150:]\n",
    "features_train = features_train[:150]\n",
    "labels_train   = labels_train[:150]\n",
    "\n",
    "print len(features_train)\n",
    "print len(features_test)\n",
    "\n",
    "clf = DecisionTreeClassifier()\n",
    "clf.fit(features_train, labels_train)\n",
    "\n",
    "pred = clf.predict(features_test)\n",
    "\n",
    "from sklearn.metrics import accuracy_score\n",
    "\n",
    "print \"accuracy\",accuracy_score(labels_test, pred)\n",
    "\n",
    "feature_num = 0\n",
    "\n",
    "for importance in clf.feature_importances_:\n",
    "\tif importance >= 0.2:\n",
    "\t\tprint \"importance\",feature_num, importance, vectorizer.get_feature_names()[feature_num]\n",
    "\n",
    "\tfeature_num += 1"
   ]
  },
  {
   "cell_type": "code",
   "execution_count": null,
   "metadata": {
    "collapsed": true
   },
   "outputs": [],
   "source": []
  }
 ],
 "metadata": {
  "kernelspec": {
   "display_name": "Python 2",
   "language": "python",
   "name": "python2"
  },
  "language_info": {
   "codemirror_mode": {
    "name": "ipython",
    "version": 2
   },
   "file_extension": ".py",
   "mimetype": "text/x-python",
   "name": "python",
   "nbconvert_exporter": "python",
   "pygments_lexer": "ipython2",
   "version": "2.7.12"
  }
 },
 "nbformat": 4,
 "nbformat_minor": 1
}
